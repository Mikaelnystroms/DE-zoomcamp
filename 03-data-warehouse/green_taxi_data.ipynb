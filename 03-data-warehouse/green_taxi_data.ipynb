{
 "cells": [
  {
   "cell_type": "code",
   "execution_count": 22,
   "metadata": {},
   "outputs": [],
   "source": [
    "from google.cloud import storage\n",
    "import pandas as pd\n",
    "import pyarrow.parquet as pq\n",
    "import pyarrow as pa\n",
    "import requests\n",
    "\n",
    "\n",
    "# https://d37ci6vzurychx.cloudfront.net/trip-data/green_tripdata_2022-01.parquet"
   ]
  },
  {
   "cell_type": "code",
   "execution_count": 18,
   "metadata": {},
   "outputs": [
    {
     "name": "stdout",
     "output_type": "stream",
     "text": [
      "Downloaded green_tripdata_2022-01.parquet\n",
      "Downloaded green_tripdata_2022-02.parquet\n",
      "Downloaded green_tripdata_2022-03.parquet\n",
      "Downloaded green_tripdata_2022-04.parquet\n",
      "Downloaded green_tripdata_2022-05.parquet\n",
      "Downloaded green_tripdata_2022-06.parquet\n",
      "Downloaded green_tripdata_2022-07.parquet\n",
      "Downloaded green_tripdata_2022-08.parquet\n",
      "Downloaded green_tripdata_2022-09.parquet\n",
      "Downloaded green_tripdata_2022-10.parquet\n",
      "Downloaded green_tripdata_2022-11.parquet\n",
      "Downloaded green_tripdata_2022-12.parquet\n"
     ]
    }
   ],
   "source": [
    "base_url = \"https://d37ci6vzurychx.cloudfront.net/trip-data/green_tripdata_2022-{month:02d}.parquet\"\n",
    "\n",
    "for month in range(1, 13): \n",
    "    url = base_url.format(month=month)\n",
    "    response = requests.get(url)\n",
    "    if response.status_code == 200:\n",
    "        filename = f\"green_tripdata_2022-{month:02d}.parquet\"\n",
    "        with open(filename, \"wb\") as f:\n",
    "            f.write(response.content)\n",
    "        print(f\"Downloaded {filename}\")\n",
    "    else:\n",
    "        print(f\"Failed to download data for month {month:02d}: HTTP {response.status_code}\")\n",
    "\n"
   ]
  },
  {
   "cell_type": "code",
   "execution_count": 21,
   "metadata": {},
   "outputs": [
    {
     "name": "stdout",
     "output_type": "stream",
     "text": [
      "   VendorID lpep_pickup_datetime lpep_dropoff_datetime store_and_fwd_flag  \\\n",
      "0         2  2022-01-01 00:14:21   2022-01-01 00:15:33                  N   \n",
      "1         1  2022-01-01 00:20:55   2022-01-01 00:29:38                  N   \n",
      "2         1  2022-01-01 00:57:02   2022-01-01 01:13:14                  N   \n",
      "3         2  2022-01-01 00:07:42   2022-01-01 00:15:57                  N   \n",
      "4         2  2022-01-01 00:07:50   2022-01-01 00:28:52                  N   \n",
      "\n",
      "   RatecodeID  PULocationID  DOLocationID  passenger_count  trip_distance  \\\n",
      "0         1.0            42            42              1.0           0.44   \n",
      "1         1.0           116            41              1.0           2.10   \n",
      "2         1.0            41           140              1.0           3.70   \n",
      "3         1.0           181           181              1.0           1.69   \n",
      "4         1.0            33           170              1.0           6.26   \n",
      "\n",
      "   fare_amount  extra  mta_tax  tip_amount  tolls_amount ehail_fee  \\\n",
      "0          3.5   0.50      0.5        0.00           0.0      None   \n",
      "1          9.5   0.50      0.5        0.00           0.0      None   \n",
      "2         14.5   3.25      0.5        4.60           0.0      None   \n",
      "3          8.0   0.50      0.5        0.00           0.0      None   \n",
      "4         22.0   0.50      0.5        5.21           0.0      None   \n",
      "\n",
      "   improvement_surcharge  total_amount  payment_type  trip_type  \\\n",
      "0                    0.3          4.80           2.0        1.0   \n",
      "1                    0.3         10.80           2.0        1.0   \n",
      "2                    0.3         23.15           1.0        1.0   \n",
      "3                    0.3          9.30           2.0        1.0   \n",
      "4                    0.3         31.26           1.0        1.0   \n",
      "\n",
      "   congestion_surcharge  \n",
      "0                  0.00  \n",
      "1                  0.00  \n",
      "2                  2.75  \n",
      "3                  0.00  \n",
      "4                  2.75  \n"
     ]
    }
   ],
   "source": [
    "file_path = 'green_tripdata_2022-01.parquet'\n",
    "\n",
    "table = pq.read_table(file_path)\n",
    "\n",
    "df = table.to_pandas()\n",
    "print(df.head())"
   ]
  },
  {
   "cell_type": "code",
   "execution_count": 23,
   "metadata": {},
   "outputs": [
    {
     "name": "stdout",
     "output_type": "stream",
     "text": [
      "Merged file saved as merged_green_tripdata_2022.parquet\n"
     ]
    }
   ],
   "source": [
    "file_paths = [f'green_tripdata_2022-{month:02d}.parquet' for month in range(1, 13)]\n",
    "\n",
    "merged_table = pq.read_table(file_paths[0])\n",
    "\n",
    "for file_path in file_paths[1:]:\n",
    "    table = pq.read_table(file_path)\n",
    "    merged_table = pa.concat_tables([merged_table, table])\n",
    "\n",
    "output_file = 'merged_green_tripdata_2022.parquet'\n",
    "pq.write_table(merged_table, output_file)\n",
    "\n",
    "print(f'Merged file saved as {output_file}')"
   ]
  },
  {
   "cell_type": "code",
   "execution_count": 24,
   "metadata": {},
   "outputs": [
    {
     "name": "stdout",
     "output_type": "stream",
     "text": [
      "   VendorID lpep_pickup_datetime lpep_dropoff_datetime store_and_fwd_flag  \\\n",
      "0         2  2022-01-01 00:14:21   2022-01-01 00:15:33                  N   \n",
      "1         1  2022-01-01 00:20:55   2022-01-01 00:29:38                  N   \n",
      "2         1  2022-01-01 00:57:02   2022-01-01 01:13:14                  N   \n",
      "3         2  2022-01-01 00:07:42   2022-01-01 00:15:57                  N   \n",
      "4         2  2022-01-01 00:07:50   2022-01-01 00:28:52                  N   \n",
      "\n",
      "   RatecodeID  PULocationID  DOLocationID  passenger_count  trip_distance  \\\n",
      "0         1.0            42            42              1.0           0.44   \n",
      "1         1.0           116            41              1.0           2.10   \n",
      "2         1.0            41           140              1.0           3.70   \n",
      "3         1.0           181           181              1.0           1.69   \n",
      "4         1.0            33           170              1.0           6.26   \n",
      "\n",
      "   fare_amount  extra  mta_tax  tip_amount  tolls_amount ehail_fee  \\\n",
      "0          3.5   0.50      0.5        0.00           0.0      None   \n",
      "1          9.5   0.50      0.5        0.00           0.0      None   \n",
      "2         14.5   3.25      0.5        4.60           0.0      None   \n",
      "3          8.0   0.50      0.5        0.00           0.0      None   \n",
      "4         22.0   0.50      0.5        5.21           0.0      None   \n",
      "\n",
      "   improvement_surcharge  total_amount  payment_type  trip_type  \\\n",
      "0                    0.3          4.80           2.0        1.0   \n",
      "1                    0.3         10.80           2.0        1.0   \n",
      "2                    0.3         23.15           1.0        1.0   \n",
      "3                    0.3          9.30           2.0        1.0   \n",
      "4                    0.3         31.26           1.0        1.0   \n",
      "\n",
      "   congestion_surcharge  \n",
      "0                  0.00  \n",
      "1                  0.00  \n",
      "2                  2.75  \n",
      "3                  0.00  \n",
      "4                  2.75  \n"
     ]
    }
   ],
   "source": [
    "file_path = 'merged_green_tripdata_2022.parquet'\n",
    "\n",
    "table = pq.read_table(file_path)\n",
    "\n",
    "df = table.to_pandas()\n",
    "print(df.head())"
   ]
  },
  {
   "cell_type": "code",
   "execution_count": 27,
   "metadata": {},
   "outputs": [
    {
     "name": "stdout",
     "output_type": "stream",
     "text": [
      "File merged_green_tripdata_2022.parquet uploaded to green_taxi_data_2022.\n"
     ]
    }
   ],
   "source": [
    "def upload_blob(bucket_name, source_file_name, destination_blob_name):\n",
    "    \"\"\"Uploads a file to the bucket.\"\"\"\n",
    "    # The ID of your GCS bucket\n",
    "    bucket_name = \"green_taxi_data_22\"\n",
    "    # The path to your file to upload\n",
    "    source_file_name = \"merged_green_tripdata_2022.parquet\"\n",
    "    # The ID of your GCS object\n",
    "    destination_blob_name = \"green_taxi_data_2022\"\n",
    "\n",
    "    storage_client = storage.Client()\n",
    "    bucket = storage_client.bucket(bucket_name)\n",
    "    blob = bucket.blob(destination_blob_name)\n",
    "\n",
    "    blob.upload_from_filename(source_file_name)\n",
    "\n",
    "    print(\n",
    "        f\"File {source_file_name} uploaded to {destination_blob_name}.\"\n",
    "    )\n",
    "upload_blob(bucket_name=\"green_taxi_data_22\", source_file_name=\"merged_green_tripdata_2022.parquet\", destination_blob_name=\"green_taxi_data_2022\")"
   ]
  },
  {
   "cell_type": "code",
   "execution_count": null,
   "metadata": {},
   "outputs": [],
   "source": []
  }
 ],
 "metadata": {
  "kernelspec": {
   "display_name": "base",
   "language": "python",
   "name": "python3"
  },
  "language_info": {
   "codemirror_mode": {
    "name": "ipython",
    "version": 3
   },
   "file_extension": ".py",
   "mimetype": "text/x-python",
   "name": "python",
   "nbconvert_exporter": "python",
   "pygments_lexer": "ipython3",
   "version": "3.1.0"
  }
 },
 "nbformat": 4,
 "nbformat_minor": 2
}
