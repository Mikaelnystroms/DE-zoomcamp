{
 "cells": [
  {
   "cell_type": "code",
   "execution_count": 10,
   "metadata": {},
   "outputs": [],
   "source": [
    "from google.cloud import storage\n",
    "import pandas as pd\n",
    "import pyarrow as pq\n",
    "import requests\n",
    "\n",
    "\n",
    "# https://d37ci6vzurychx.cloudfront.net/trip-data/green_tripdata_2022-01.parquet"
   ]
  },
  {
   "cell_type": "code",
   "execution_count": 18,
   "metadata": {},
   "outputs": [
    {
     "name": "stdout",
     "output_type": "stream",
     "text": [
      "Downloaded green_tripdata_2022-01.parquet\n",
      "Downloaded green_tripdata_2022-02.parquet\n",
      "Downloaded green_tripdata_2022-03.parquet\n",
      "Downloaded green_tripdata_2022-04.parquet\n",
      "Downloaded green_tripdata_2022-05.parquet\n",
      "Downloaded green_tripdata_2022-06.parquet\n",
      "Downloaded green_tripdata_2022-07.parquet\n",
      "Downloaded green_tripdata_2022-08.parquet\n",
      "Downloaded green_tripdata_2022-09.parquet\n",
      "Downloaded green_tripdata_2022-10.parquet\n",
      "Downloaded green_tripdata_2022-11.parquet\n",
      "Downloaded green_tripdata_2022-12.parquet\n"
     ]
    }
   ],
   "source": [
    "base_url = \"https://d37ci6vzurychx.cloudfront.net/trip-data/green_tripdata_2022-{month:02d}.parquet\"\n",
    "headers = {\n",
    "    'User-Agent': 'Mozilla/5.0 (Windows NT 10.0; Win64; x64) AppleWebKit/537.36 (KHTML, like Gecko) Chrome/58.0.3029.110 Safari/537.3'}\n",
    "\n",
    "for month in range(1, 13):  # Loop from January (1) to December (12)\n",
    "    url = base_url.format(month=month)\n",
    "    response = requests.get(url, headers=headers)\n",
    "    if response.status_code == 200:\n",
    "        filename = f\"green_tripdata_2022-{month:02d}.parquet\"\n",
    "        with open(filename, \"wb\") as f:\n",
    "            f.write(response.content)\n",
    "        print(f\"Downloaded {filename}\")\n",
    "    else:\n",
    "        print(f\"Failed to download data for month {month:02d}: HTTP {response.status_code}\")\n",
    "\n"
   ]
  },
  {
   "cell_type": "code",
   "execution_count": null,
   "metadata": {},
   "outputs": [],
   "source": []
  },
  {
   "cell_type": "code",
   "execution_count": 8,
   "metadata": {},
   "outputs": [],
   "source": [
    "import pyarrow.parquet as pq\n",
    "\n",
    "files = [\"table1.parquet\", \"table2.parquet\"]\n",
    "\n",
    "schema = pq.ParquetFile(files[0]).schema_arrow\n",
    "with pq.ParquetWriter(\"output.parquet\", schema=schema) as writer:\n",
    "    for file in files:\n",
    "        writer.write_table(pq.read_table(file, schema=schema))"
   ]
  },
  {
   "cell_type": "code",
   "execution_count": null,
   "metadata": {},
   "outputs": [],
   "source": [
    "def upload_blob(bucket_name, source_file_name, destination_blob_name):\n",
    "    \"\"\"Uploads a file to the bucket.\"\"\"\n",
    "    # The ID of your GCS bucket\n",
    "    bucket_name = \"green_taxi_data_22\"\n",
    "    # The path to your file to upload\n",
    "    source_file_name = \"\"\n",
    "    # The ID of your GCS object\n",
    "    # destination_blob_name = \"storage-object-name\"\n",
    "\n",
    "    storage_client = storage.Client()\n",
    "    bucket = storage_client.bucket(bucket_name)\n",
    "    blob = bucket.blob(destination_blob_name)"
   ]
  },
  {
   "cell_type": "code",
   "execution_count": null,
   "metadata": {},
   "outputs": [],
   "source": [
    "    blob.upload_from_filename(source_file_name, if_generation_match=generation_match_precondition)\n",
    "\n",
    "    print(\n",
    "        f\"File {source_file_name} uploaded to {destination_blob_name}.\"\n",
    "    )"
   ]
  }
 ],
 "metadata": {
  "kernelspec": {
   "display_name": "base",
   "language": "python",
   "name": "python3"
  },
  "language_info": {
   "codemirror_mode": {
    "name": "ipython",
    "version": 3
   },
   "file_extension": ".py",
   "mimetype": "text/x-python",
   "name": "python",
   "nbconvert_exporter": "python",
   "pygments_lexer": "ipython3",
   "version": "3.11.5"
  }
 },
 "nbformat": 4,
 "nbformat_minor": 2
}
